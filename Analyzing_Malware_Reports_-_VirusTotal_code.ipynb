{
 "cells": [
  {
   "cell_type": "code",
   "execution_count": 1,
   "metadata": {},
   "outputs": [
    {
     "name": "stdout",
     "output_type": "stream",
     "text": [
      "Collecting virustotal\n",
      "  Using cached virustotal-1.0.3.tar.gz (4.8 kB)\n",
      "  Preparing metadata (setup.py) ... \u001b[?25lerror\n",
      "  \u001b[1;31merror\u001b[0m: \u001b[1msubprocess-exited-with-error\u001b[0m\n",
      "  \n",
      "  \u001b[31m×\u001b[0m \u001b[32mpython setup.py egg_info\u001b[0m did not run successfully.\n",
      "  \u001b[31m│\u001b[0m exit code: \u001b[1;36m1\u001b[0m\n",
      "  \u001b[31m╰─>\u001b[0m \u001b[31m[9 lines of output]\u001b[0m\n",
      "  \u001b[31m   \u001b[0m Traceback (most recent call last):\n",
      "  \u001b[31m   \u001b[0m   File \"<string>\", line 2, in <module>\n",
      "  \u001b[31m   \u001b[0m   File \"<pip-setuptools-caller>\", line 34, in <module>\n",
      "  \u001b[31m   \u001b[0m   File \"/private/var/folders/nw/fzbhws_x3kd86vn3yvg6f7b00000gn/T/pip-install-n3z0gogt/virustotal_fb377661a01942b1849b81025413d95f/setup.py\", line 9, in <module>\n",
      "  \u001b[31m   \u001b[0m     import virustotal\n",
      "  \u001b[31m   \u001b[0m   File \"/private/var/folders/nw/fzbhws_x3kd86vn3yvg6f7b00000gn/T/pip-install-n3z0gogt/virustotal_fb377661a01942b1849b81025413d95f/virustotal.py\", line 330\n",
      "  \u001b[31m   \u001b[0m     print \"ERROR: unknown action\"\n",
      "  \u001b[31m   \u001b[0m     ^^^^^^^^^^^^^^^^^^^^^^^^^^^^^\n",
      "  \u001b[31m   \u001b[0m SyntaxError: Missing parentheses in call to 'print'. Did you mean print(...)?\n",
      "  \u001b[31m   \u001b[0m \u001b[31m[end of output]\u001b[0m\n",
      "  \n",
      "  \u001b[1;35mnote\u001b[0m: This error originates from a subprocess, and is likely not a problem with pip.\n",
      "\u001b[1;31merror\u001b[0m: \u001b[1mmetadata-generation-failed\u001b[0m\n",
      "\n",
      "\u001b[31m×\u001b[0m Encountered error while generating package metadata.\n",
      "\u001b[31m╰─>\u001b[0m See above for output.\n",
      "\n",
      "\u001b[1;35mnote\u001b[0m: This is an issue with the package mentioned above, not pip.\n",
      "\u001b[1;36mhint\u001b[0m: See above for details.\n",
      "\u001b[?25hNote: you may need to restart the kernel to use updated packages.\n"
     ]
    }
   ],
   "source": [
    "pip install virustotal"
   ]
  },
  {
   "cell_type": "code",
   "execution_count": 3,
   "metadata": {},
   "outputs": [
    {
     "name": "stdout",
     "output_type": "stream",
     "text": [
      "Requirement already satisfied: virustotal-api in /Users/rifan/anaconda3/lib/python3.10/site-packages (1.1.11)\n",
      "Requirement already satisfied: requests>=2.22.0 in /Users/rifan/anaconda3/lib/python3.10/site-packages (from virustotal-api) (2.28.1)\n",
      "Requirement already satisfied: urllib3<1.27,>=1.21.1 in /Users/rifan/anaconda3/lib/python3.10/site-packages (from requests>=2.22.0->virustotal-api) (1.26.14)\n",
      "Requirement already satisfied: idna<4,>=2.5 in /Users/rifan/anaconda3/lib/python3.10/site-packages (from requests>=2.22.0->virustotal-api) (3.4)\n",
      "Requirement already satisfied: certifi>=2017.4.17 in /Users/rifan/anaconda3/lib/python3.10/site-packages (from requests>=2.22.0->virustotal-api) (2022.12.7)\n",
      "Requirement already satisfied: charset-normalizer<3,>=2 in /Users/rifan/anaconda3/lib/python3.10/site-packages (from requests>=2.22.0->virustotal-api) (2.0.4)\n",
      "Note: you may need to restart the kernel to use updated packages.\n"
     ]
    }
   ],
   "source": [
    "pip install virustotal-api"
   ]
  },
  {
   "cell_type": "code",
   "execution_count": 4,
   "metadata": {},
   "outputs": [],
   "source": [
    "from __future__ import print_function\n",
    "import json\n",
    "import hashlib\n",
    "from virus_total_apis import PublicApi as vtPubAPI"
   ]
  },
  {
   "cell_type": "code",
   "execution_count": 5,
   "metadata": {},
   "outputs": [],
   "source": [
    "vt = vtPubAPI('22c6d056f1e99b8fb4fa6c2a811178723735e9840de18fa2df83fccfd21c95a0')"
   ]
  },
  {
   "cell_type": "code",
   "execution_count": 6,
   "metadata": {},
   "outputs": [
    {
     "name": "stdout",
     "output_type": "stream",
     "text": [
      "{\n",
      "    \"error\": \"You tried to perform calls to functions for which you require a Private API key.\",\n",
      "    \"response_code\": 403\n",
      "}\n"
     ]
    }
   ],
   "source": [
    "response = vt.get_file_report('44cda81782dc2a346abd7b2285530c5f')\n",
    "print(json.dumps(response, sort_keys=False, indent=4))\n",
    "#json.dumps(response)"
   ]
  },
  {
   "cell_type": "code",
   "execution_count": 7,
   "metadata": {},
   "outputs": [
    {
     "name": "stdout",
     "output_type": "stream",
     "text": [
      "Report\n"
     ]
    },
    {
     "ename": "KeyError",
     "evalue": "'results'",
     "output_type": "error",
     "traceback": [
      "\u001b[0;31m---------------------------------------------------------------------------\u001b[0m",
      "\u001b[0;31mKeyError\u001b[0m                                  Traceback (most recent call last)",
      "Cell \u001b[0;32mIn[7], line 2\u001b[0m\n\u001b[1;32m      1\u001b[0m \u001b[38;5;28mprint\u001b[39m(\u001b[38;5;124m\"\u001b[39m\u001b[38;5;124mReport\u001b[39m\u001b[38;5;124m\"\u001b[39m)\n\u001b[0;32m----> 2\u001b[0m \u001b[38;5;28mprint\u001b[39m(\u001b[38;5;124m\"\u001b[39m\u001b[38;5;124m- Resource\u001b[39m\u001b[38;5;124m'\u001b[39m\u001b[38;5;124ms UID:\u001b[39m\u001b[38;5;124m\"\u001b[39m, \u001b[43mresponse\u001b[49m\u001b[43m[\u001b[49m\u001b[38;5;124;43m'\u001b[39;49m\u001b[38;5;124;43mresults\u001b[39;49m\u001b[38;5;124;43m'\u001b[39;49m\u001b[43m]\u001b[49m[\u001b[38;5;124m'\u001b[39m\u001b[38;5;124mresource\u001b[39m\u001b[38;5;124m'\u001b[39m])\n\u001b[1;32m      3\u001b[0m \u001b[38;5;28mprint\u001b[39m(\u001b[38;5;124m\"\u001b[39m\u001b[38;5;124m- Scan\u001b[39m\u001b[38;5;124m'\u001b[39m\u001b[38;5;124ms UID:\u001b[39m\u001b[38;5;124m\"\u001b[39m, response[\u001b[38;5;124m'\u001b[39m\u001b[38;5;124mresults\u001b[39m\u001b[38;5;124m'\u001b[39m][\u001b[38;5;124m'\u001b[39m\u001b[38;5;124mscan_id\u001b[39m\u001b[38;5;124m'\u001b[39m])\n\u001b[1;32m      4\u001b[0m \u001b[38;5;28mprint\u001b[39m(\u001b[38;5;124m\"\u001b[39m\u001b[38;5;124m- Permalink:\u001b[39m\u001b[38;5;124m\"\u001b[39m, response[\u001b[38;5;124m'\u001b[39m\u001b[38;5;124mresults\u001b[39m\u001b[38;5;124m'\u001b[39m][\u001b[38;5;124m'\u001b[39m\u001b[38;5;124mpermalink\u001b[39m\u001b[38;5;124m'\u001b[39m])\n",
      "\u001b[0;31mKeyError\u001b[0m: 'results'"
     ]
    }
   ],
   "source": [
    "print(\"Report\")\n",
    "print(\"- Resource's UID:\", response['results']['resource'])\n",
    "print(\"- Scan's UID:\", response['results']['scan_id'])\n",
    "print(\"- Permalink:\", response['results']['permalink'])\n",
    "print(\"- Resource's SHA1:\", response['results']['sha1'])\n",
    "print(\"- Resource's SHA256:\", response['results']['sha256'])\n",
    "print(\"- Resource's MD5:\", response['results']['md5'])\n",
    "print(\"- Antivirus' total:\", response['results']['total'])\n",
    "print(\"- Antivirus's positives:\", response['results']['positives'])\n",
    "listResponses=response['results']['scans']\n",
    "for antivirus in listResponses:\n",
    "    if listResponses[antivirus]['detected']==True:\n",
    "        print('\\n')\n",
    "        print(\"Antivirus:\", antivirus)\n",
    "        print(\"Antivirus' version:\", listResponses[antivirus]['version'])\n",
    "        print(\"Antivirus' update:\", listResponses[antivirus]['update'])\n",
    "        print(\"Malware:\", listResponses[antivirus]['result'])"
   ]
  },
  {
   "cell_type": "code",
   "execution_count": null,
   "metadata": {},
   "outputs": [],
   "source": []
  },
  {
   "cell_type": "code",
   "execution_count": null,
   "metadata": {},
   "outputs": [],
   "source": []
  }
 ],
 "metadata": {
  "kernelspec": {
   "display_name": "Python 3 (ipykernel)",
   "language": "python",
   "name": "python3"
  },
  "language_info": {
   "codemirror_mode": {
    "name": "ipython",
    "version": 3
   },
   "file_extension": ".py",
   "mimetype": "text/x-python",
   "name": "python",
   "nbconvert_exporter": "python",
   "pygments_lexer": "ipython3",
   "version": "3.10.9"
  }
 },
 "nbformat": 4,
 "nbformat_minor": 2
}
